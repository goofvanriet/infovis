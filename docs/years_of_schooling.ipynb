{
 "cells": [
  {
   "cell_type": "code",
   "execution_count": 11,
   "id": "b4452b24-93d5-40c1-9a8a-e9f0c34dafcf",
   "metadata": {},
   "outputs": [],
   "source": [
    "# Import packages\n",
    "import pandas as pd\n",
    "import plotly.express as px\n",
    "import seaborn as sns\n",
    "import json\n",
    "import numpy as np\n",
    "import openpyxl\n",
    "import matplotlib.pyplot as plt\n",
    "\n",
    "df1 = pd.read_csv('HDI-dataset-clean.csv')\n",
    "df2 = pd.read_csv('energy.csv')"
   ]
  },
  {
   "cell_type": "code",
   "execution_count": 12,
   "id": "40a783fe-afd4-408a-a271-afce772ed26c",
   "metadata": {},
   "outputs": [],
   "source": [
    "df2_agg = df2.groupby('country').agg({\n",
    "    'population': 'last',  # Gemiddelde populatie\n",
    "    'co2': 'sum',  # Totale CO2-uitstoot\n",
    "    'co2_per_capita': 'last',  # Gemiddelde CO2-uitstoot per capita\n",
    "    'energy_per_capita': 'last',  # Gemiddelde energieconsumptie per capita\n",
    "    'cement_co2': 'sum',  # Totale CO2-uitstoot van cement\n",
    "    'coal_co2': 'sum',  # Totale CO2-uitstoot van steenkool\n",
    "    'oil_co2': 'sum',  # Totale CO2-uitstoot van olie\n",
    "    'gas_co2': 'sum',  # Totale CO2-uitstoot van gas\n",
    "    'flaring_co2': 'sum',  # Totale CO2-uitstoot van affakkelen\n",
    "    'share_global_co2': 'last',  # Gemiddeld aandeel van globale CO2-uitstoot\n",
    "    'temperature_change_from_co2': 'last',  # Gemiddelde temperatuurverandering van CO2\n",
    "})"
   ]
  },
  {
   "cell_type": "code",
   "execution_count": 13,
   "id": "d8db1fd0-7780-4546-9db1-4e321de8f1e9",
   "metadata": {},
   "outputs": [],
   "source": [
    "# De overeenkomstige landen met verschillende namen in de twee datasets gelijk name geven door middel van mapping en de .replace() functie.\n",
    "name_mapping = {\n",
    "    'Hong Kong, China (SAR)': 'Hong Kong',\n",
    "    'Korea (Republic of)': 'South Korea',\n",
    "    'Türkiye': 'Turkey',\n",
    "    'Brunei Darussalam': 'Brunei',\n",
    "    'Russian Federation': 'Russia',\n",
    "    'Iran (Islamic Republic of)': 'Iran',\n",
    "    'Moldova (Republic of)': 'Moldova',\n",
    "    'Viet Nam': 'Vietnam',\n",
    "    'Palestine, State of': 'Palestine',\n",
    "    'Venezuela (Bolivarian Republic of)': 'Venezuela',\n",
    "    'Bolivia (Plurinational State of)': 'Bolivia',\n",
    "    'Cabo Verde': 'Cape Verde',\n",
    "    'Micronesia (Federated States of)': 'Micronesia (country)',\n",
    "    \"Lao People's Democratic Republic\": 'Laos',\n",
    "    'Eswatini (Kingdom of)': 'Eswatini',\n",
    "    'Timor-Leste': 'East Timor',\n",
    "    'Syrian Arab Republic': 'Syria',\n",
    "    \"Côte d'Ivoire\": \"Cote d'Ivoire\",\n",
    "    'Tanzania (United Republic of)': 'Tanzania',\n",
    "    'Congo (Democratic Republic of the)': 'Democratic Republic of Congo'\n",
    "}\n",
    "df1['location'] = df1['location'].replace(name_mapping)"
   ]
  },
  {
   "cell_type": "code",
   "execution_count": 28,
   "id": "4b023f1e-e488-429e-97bc-599619e89299",
   "metadata": {},
   "outputs": [],
   "source": [
    "df1_landen = df1['location'].values.tolist()\n",
    "df2_landen = df2_agg.index.tolist()\n",
    "\n",
    "overeenkomstige_landen = [x for x in df1_landen if x in df2_landen]\n",
    "# print(len(overeenkomstige_landen))\n",
    "\n",
    "# Filteren van de datasets aan de hand van de overeenkomstige_landen lijst zodat de landen in alle datasets voorkomen onder dezelfde naam\n",
    "df1 = df1[df1['location'].isin(overeenkomstige_landen)]\n",
    "df2 = df2_agg[df2_agg.index.isin(overeenkomstige_landen)]"
   ]
  },
  {
   "cell_type": "code",
   "execution_count": 15,
   "id": "00b1166d-f639-478a-96bd-fcc2385c9c12",
   "metadata": {},
   "outputs": [],
   "source": [
    "def remove_unnamed_columns(df):\n",
    "    \"\"\"\n",
    "    Verwijdert alle kolommen die beginnen met 'Unnamed' uit de gegeven DataFrame.\n",
    "\n",
    "    Parameters:\n",
    "        df (pd.DataFrame): De DataFrame waaruit de kolommen verwijderd moeten worden.\n",
    "\n",
    "    Returns:\n",
    "        pd.DataFrame: Een DataFrame zonder de 'Unnamed' kolommen.\n",
    "    \"\"\"\n",
    "    # Filter kolommen waarvan de namen beginnen met 'Unnamed'\n",
    "    columns_to_drop = [col for col in df.columns if col.startswith('Unnamed')]\n",
    "    \n",
    "    # Verwijder deze kolommen uit de DataFrame\n",
    "    df_cleaned = df.drop(columns=columns_to_drop)\n",
    "    \n",
    "    return df_cleaned\n",
    "\n",
    "df1_cleaned = remove_unnamed_columns(df1)"
   ]
  },
  {
   "cell_type": "code",
   "execution_count": 16,
   "id": "69d048cc-cd30-4705-97b9-ceaf4ee94617",
   "metadata": {},
   "outputs": [],
   "source": [
    "# De drie datasets bij elkaar voegen in een dataset\n",
    "result_df = pd.merge(df2, df1_cleaned, left_on='country', right_on='location', how='inner')"
   ]
  },
  {
   "cell_type": "code",
   "execution_count": 24,
   "id": "a7eb56bd-9265-4501-8e9e-58874130537e",
   "metadata": {},
   "outputs": [],
   "source": [
    "def remove_outliers(items, df):\n",
    "    for item in items:\n",
    "        Q1 = df[item].quantile(0.25)\n",
    "        Q3 = df[item].quantile(0.75)\n",
    "        IQR = Q3 - Q1\n",
    "        lower = Q1 - 1.5 * IQR\n",
    "        upper = Q3 + 1.5 * IQR\n",
    "        \n",
    "        # Identify outliers\n",
    "        outliers = df[(df[item] < lower) | (df[item] > upper)].index\n",
    "        \n",
    "        # Drop outliers\n",
    "        df.drop(outliers, inplace=True)\n",
    "        \n",
    "    return df\n",
    "df_result = remove_outliers(['Expected years of schooling', 'co2_per_capita', 'Mean years of schooling'], result_df)\n",
    "result_df.to_csv('data.csv')"
   ]
  },
  {
   "cell_type": "code",
   "execution_count": 27,
   "id": "d325f0aa-7f6f-4282-925e-50420485e2ce",
   "metadata": {},
   "outputs": [
    {
     "data": {
      "application/vnd.plotly.v1+json": {
       "config": {
        "plotlyServerURL": "https://plot.ly"
       },
       "data": [
        {
         "hovertemplate": "<b>%{hovertext}</b><br><br>CO2 Emissions per Capita (Mt)=%{x}<br>Expected Years of Schooling=%{y}<br>GNI per capita rank minus HDI rank=%{marker.color}<extra></extra>",
         "hovertext": [
          "Afghanistan",
          "Albania",
          "Algeria",
          "Andorra",
          "Angola",
          "Antigua and Barbuda",
          "Argentina",
          "Armenia",
          "Austria",
          "Azerbaijan",
          "Bahamas",
          "Bangladesh",
          "Barbados",
          "Belarus",
          "Belgium",
          "Belize",
          "Benin",
          "Bhutan",
          "Bolivia",
          "Bosnia and Herzegovina",
          "Botswana",
          "Brazil",
          "Bulgaria",
          "Burkina Faso",
          "Burundi",
          "Cambodia",
          "Cameroon",
          "Cape Verde",
          "Central African Republic",
          "Chad",
          "Chile",
          "China",
          "Colombia",
          "Comoros",
          "Congo",
          "Costa Rica",
          "Cote d'Ivoire",
          "Croatia",
          "Cuba",
          "Cyprus",
          "Czechia",
          "Democratic Republic of Congo",
          "Denmark",
          "Djibouti",
          "Dominica",
          "Dominican Republic",
          "East Timor",
          "Ecuador",
          "Egypt",
          "El Salvador",
          "Equatorial Guinea",
          "Eritrea",
          "Estonia",
          "Eswatini",
          "Ethiopia",
          "Fiji",
          "Finland",
          "France",
          "Gabon",
          "Gambia",
          "Georgia",
          "Germany",
          "Ghana",
          "Greece",
          "Grenada",
          "Guatemala",
          "Guinea",
          "Guinea-Bissau",
          "Guyana",
          "Haiti",
          "Honduras",
          "Hong Kong",
          "Hungary",
          "Iceland",
          "India",
          "Indonesia",
          "Iran",
          "Iraq",
          "Ireland",
          "Israel",
          "Italy",
          "Jamaica",
          "Japan",
          "Jordan",
          "Kenya",
          "Kiribati",
          "Kyrgyzstan",
          "Laos",
          "Latvia",
          "Lebanon",
          "Lesotho",
          "Liberia",
          "Libya",
          "Liechtenstein",
          "Lithuania",
          "Madagascar",
          "Malawi",
          "Malaysia",
          "Maldives",
          "Mali",
          "Malta",
          "Marshall Islands",
          "Mauritania",
          "Mauritius",
          "Mexico",
          "Micronesia (country)",
          "Moldova",
          "Montenegro",
          "Morocco",
          "Mozambique",
          "Myanmar",
          "Namibia",
          "Nauru",
          "Nepal",
          "Netherlands",
          "New Zealand",
          "Nicaragua",
          "Niger",
          "Nigeria",
          "North Macedonia",
          "Norway",
          "Pakistan",
          "Palestine",
          "Panama",
          "Papua New Guinea",
          "Paraguay",
          "Peru",
          "Philippines",
          "Poland",
          "Portugal",
          "Romania",
          "Rwanda",
          "Saint Kitts and Nevis",
          "Saint Lucia",
          "Saint Vincent and the Grenadines",
          "Samoa",
          "San Marino",
          "Sao Tome and Principe",
          "Senegal",
          "Serbia",
          "Seychelles",
          "Sierra Leone",
          "Singapore",
          "Slovakia",
          "Slovenia",
          "Solomon Islands",
          "Somalia",
          "South Africa",
          "South Sudan",
          "Spain",
          "Sri Lanka",
          "Sudan",
          "Suriname",
          "Sweden",
          "Switzerland",
          "Syria",
          "Tajikistan",
          "Tanzania",
          "Thailand",
          "Togo",
          "Tonga",
          "Tunisia",
          "Turkey",
          "Tuvalu",
          "Uganda",
          "Ukraine",
          "United Kingdom",
          "Uruguay",
          "Uzbekistan",
          "Vanuatu",
          "Venezuela",
          "Vietnam",
          "Yemen",
          "Zambia",
          "Zimbabwe"
         ],
         "legendgroup": "",
         "marker": {
          "color": [
           2,
           7,
           13,
           -15,
           -11,
           18,
           17,
           4,
           -5,
           -7,
           -9,
           2,
           24,
           5,
           9,
           -3,
           -14,
           -15,
           3,
           -3,
           -29,
           0,
           -12,
           -9,
           5,
           0,
           3,
           -4,
           0,
           -6,
           15,
           0,
           -8,
           8,
           14,
           2,
           -30,
           5,
           40,
           7,
           6,
           9,
           6,
           -29,
           -1,
           -9,
           24,
           25,
           -8,
           -7,
           -24,
           2,
           9,
           -21,
           -8,
           0,
           11,
           -1,
           -18,
           -1,
           19,
           11,
           -10,
           20,
           18,
           -17,
           -14,
           -1,
           -54,
           6,
           2,
           6,
           -2,
           16,
           -6,
           -12,
           10,
           -11,
           -3,
           9,
           1,
           -2,
           9,
           15,
           -3,
           21,
           28,
           -13,
           13,
           -11,
           -3,
           8,
           -25,
           -11,
           2,
           4,
           10,
           -7,
           -16,
           -13,
           5,
           28,
           -26,
           -12,
           -7,
           18,
           8,
           12,
           4,
           4,
           6,
           -26,
           -38,
           5,
           4,
           16,
           4,
           -3,
           -15,
           -5,
           6,
           -27,
           18,
           -6,
           -2,
           -9,
           14,
           5,
           7,
           0,
           -1,
           8,
           3,
           -21,
           9,
           25,
           -30,
           8,
           -12,
           3,
           -12,
           -4,
           -6,
           4,
           13,
           14,
           -3,
           -18,
           1,
           10,
           24,
           -14,
           -25,
           10,
           6,
           -2,
           18,
           -1,
           10,
           9,
           34,
           11,
           2,
           15,
           12,
           3,
           13,
           12,
           16,
           21,
           14,
           0,
           2,
           9,
           15
          ],
          "coloraxis": "coloraxis",
          "symbol": "circle"
         },
         "mode": "markers",
         "name": "",
         "orientation": "v",
         "showlegend": false,
         "type": "scatter",
         "x": [
          0.295,
          1.743,
          3.927,
          4.617,
          0.452,
          6.422,
          4.238,
          2.305,
          6.878,
          3.675,
          5.171,
          0.596,
          4.377,
          6.167,
          7.688,
          1.789,
          0.631,
          1.349,
          1.758,
          6.103,
          2.839,
          2.245,
          6.804,
          0.263,
          0.062,
          1.19,
          0.343,
          0.959,
          0.041,
          0.134,
          4.304,
          7.993,
          1.922,
          0.493,
          1.245,
          1.523,
          0.417,
          4.349,
          1.866,
          5.617,
          9.336,
          0.036,
          4.94,
          0.404,
          2.106,
          2.105,
          0.499,
          2.312,
          2.333,
          1.217,
          3.031,
          0.189,
          7.776,
          1.053,
          0.155,
          1.155,
          6.527,
          4.604,
          2.388,
          0.285,
          2.963,
          7.984,
          0.622,
          5.745,
          2.713,
          1.076,
          0.357,
          0.155,
          4.374,
          0.211,
          1.07,
          4.082,
          4.45,
          9.5,
          1.997,
          2.646,
          7.799,
          4.025,
          7.721,
          6.209,
          5.727,
          2.295,
          8.502,
          2.03,
          0.46,
          0.518,
          1.425,
          3.08,
          3.562,
          4.354,
          1.359,
          0.165,
          9.242,
          3.81,
          4.606,
          0.149,
          0.103,
          8.577,
          3.248,
          0.312,
          3.104,
          3.635,
          0.957,
          3.27,
          4.015,
          1.324,
          1.657,
          3.656,
          1.826,
          0.243,
          0.645,
          1.54,
          4.17,
          0.507,
          7.137,
          6.212,
          0.799,
          0.117,
          0.589,
          3.625,
          7.509,
          0.849,
          0.666,
          2.699,
          0.771,
          1.33,
          1.789,
          1.301,
          8.107,
          4.051,
          3.74,
          0.112,
          4.708,
          2.615,
          2.296,
          1.122,
          null,
          0.582,
          0.674,
          6.025,
          6.15,
          0.131,
          8.912,
          6.052,
          5.998,
          0.412,
          0.037,
          6.746,
          0.168,
          5.164,
          0.794,
          0.47,
          5.803,
          3.607,
          4.048,
          1.249,
          1.006,
          0.238,
          3.776,
          0.291,
          1.769,
          2.879,
          5.105,
          1,
          0.127,
          3.558,
          4.72,
          2.306,
          3.483,
          0.636,
          2.717,
          3.5,
          0.337,
          0.446,
          0.543
         ],
         "xaxis": "x",
         "y": [
          10.7,
          14.5,
          15.5,
          12.8,
          12.2,
          15.5,
          19,
          14.4,
          16.4,
          12.7,
          11.9,
          11.9,
          16.5,
          14,
          18.9,
          12.4,
          10.3,
          13.1,
          15,
          13.3,
          11.4,
          15.6,
          13.9,
          8.1,
          10,
          11.6,
          13.4,
          11.5,
          7.3,
          8.2,
          16.8,
          15.2,
          14.4,
          13,
          12.4,
          16.1,
          10.1,
          15.6,
          14.5,
          16.2,
          16.3,
          9.6,
          18.8,
          8,
          13.6,
          13.6,
          13.2,
          14.9,
          12.9,
          11.9,
          12.1,
          7.3,
          15.9,
          14.9,
          9.9,
          13.8,
          19.2,
          16,
          12.4,
          9,
          16.7,
          17.3,
          11.6,
          20,
          16.6,
          10.8,
          10.2,
          10.5,
          13,
          11.1,
          10,
          17.8,
          15.1,
          19.1,
          12.6,
          14,
          14.1,
          12.2,
          19.1,
          15,
          16.7,
          12.5,
          15.5,
          12.6,
          11.4,
          11.8,
          13,
          10.2,
          16.6,
          12.1,
          11.1,
          10.5,
          14,
          15.5,
          16.4,
          9.2,
          11.5,
          12.9,
          12.2,
          7,
          15.9,
          16.4,
          8.1,
          14.6,
          14.5,
          12.6,
          14.9,
          15.1,
          14.6,
          10.7,
          12.1,
          11.8,
          12.6,
          12.6,
          18.6,
          19.7,
          12.6,
          7.2,
          10.5,
          13,
          18.6,
          7.9,
          13.2,
          13.2,
          11.1,
          13.9,
          14.8,
          12.8,
          15.9,
          16.8,
          14.5,
          11.4,
          18.4,
          12.7,
          16.3,
          12.4,
          12.4,
          12.7,
          9.1,
          14.5,
          13.9,
          9,
          16.9,
          14.7,
          17.4,
          10.3,
          7.6,
          14.3,
          5.6,
          17.8,
          13.6,
          8.5,
          11,
          19,
          16.6,
          7.4,
          10.9,
          8.6,
          15.6,
          13,
          16.3,
          14.6,
          19.7,
          12.1,
          11.5,
          13.3,
          17.6,
          17.4,
          12,
          11.8,
          13.5,
          13.1,
          7.9,
          11,
          11
         ],
         "yaxis": "y"
        }
       ],
       "layout": {
        "autosize": true,
        "coloraxis": {
         "colorbar": {
          "title": {
           "text": "GNI per capita rank minus HDI rank"
          }
         },
         "colorscale": [
          [
           0,
           "#0d0887"
          ],
          [
           0.1111111111111111,
           "#46039f"
          ],
          [
           0.2222222222222222,
           "#7201a8"
          ],
          [
           0.3333333333333333,
           "#9c179e"
          ],
          [
           0.4444444444444444,
           "#bd3786"
          ],
          [
           0.5555555555555556,
           "#d8576b"
          ],
          [
           0.6666666666666666,
           "#ed7953"
          ],
          [
           0.7777777777777778,
           "#fb9f3a"
          ],
          [
           0.8888888888888888,
           "#fdca26"
          ],
          [
           1,
           "#f0f921"
          ]
         ]
        },
        "legend": {
         "tracegroupgap": 0
        },
        "template": {
         "data": {
          "bar": [
           {
            "error_x": {
             "color": "#2a3f5f"
            },
            "error_y": {
             "color": "#2a3f5f"
            },
            "marker": {
             "line": {
              "color": "#E5ECF6",
              "width": 0.5
             },
             "pattern": {
              "fillmode": "overlay",
              "size": 10,
              "solidity": 0.2
             }
            },
            "type": "bar"
           }
          ],
          "barpolar": [
           {
            "marker": {
             "line": {
              "color": "#E5ECF6",
              "width": 0.5
             },
             "pattern": {
              "fillmode": "overlay",
              "size": 10,
              "solidity": 0.2
             }
            },
            "type": "barpolar"
           }
          ],
          "carpet": [
           {
            "aaxis": {
             "endlinecolor": "#2a3f5f",
             "gridcolor": "white",
             "linecolor": "white",
             "minorgridcolor": "white",
             "startlinecolor": "#2a3f5f"
            },
            "baxis": {
             "endlinecolor": "#2a3f5f",
             "gridcolor": "white",
             "linecolor": "white",
             "minorgridcolor": "white",
             "startlinecolor": "#2a3f5f"
            },
            "type": "carpet"
           }
          ],
          "choropleth": [
           {
            "colorbar": {
             "outlinewidth": 0,
             "ticks": ""
            },
            "type": "choropleth"
           }
          ],
          "contour": [
           {
            "colorbar": {
             "outlinewidth": 0,
             "ticks": ""
            },
            "colorscale": [
             [
              0,
              "#0d0887"
             ],
             [
              0.1111111111111111,
              "#46039f"
             ],
             [
              0.2222222222222222,
              "#7201a8"
             ],
             [
              0.3333333333333333,
              "#9c179e"
             ],
             [
              0.4444444444444444,
              "#bd3786"
             ],
             [
              0.5555555555555556,
              "#d8576b"
             ],
             [
              0.6666666666666666,
              "#ed7953"
             ],
             [
              0.7777777777777778,
              "#fb9f3a"
             ],
             [
              0.8888888888888888,
              "#fdca26"
             ],
             [
              1,
              "#f0f921"
             ]
            ],
            "type": "contour"
           }
          ],
          "contourcarpet": [
           {
            "colorbar": {
             "outlinewidth": 0,
             "ticks": ""
            },
            "type": "contourcarpet"
           }
          ],
          "heatmap": [
           {
            "colorbar": {
             "outlinewidth": 0,
             "ticks": ""
            },
            "colorscale": [
             [
              0,
              "#0d0887"
             ],
             [
              0.1111111111111111,
              "#46039f"
             ],
             [
              0.2222222222222222,
              "#7201a8"
             ],
             [
              0.3333333333333333,
              "#9c179e"
             ],
             [
              0.4444444444444444,
              "#bd3786"
             ],
             [
              0.5555555555555556,
              "#d8576b"
             ],
             [
              0.6666666666666666,
              "#ed7953"
             ],
             [
              0.7777777777777778,
              "#fb9f3a"
             ],
             [
              0.8888888888888888,
              "#fdca26"
             ],
             [
              1,
              "#f0f921"
             ]
            ],
            "type": "heatmap"
           }
          ],
          "heatmapgl": [
           {
            "colorbar": {
             "outlinewidth": 0,
             "ticks": ""
            },
            "colorscale": [
             [
              0,
              "#0d0887"
             ],
             [
              0.1111111111111111,
              "#46039f"
             ],
             [
              0.2222222222222222,
              "#7201a8"
             ],
             [
              0.3333333333333333,
              "#9c179e"
             ],
             [
              0.4444444444444444,
              "#bd3786"
             ],
             [
              0.5555555555555556,
              "#d8576b"
             ],
             [
              0.6666666666666666,
              "#ed7953"
             ],
             [
              0.7777777777777778,
              "#fb9f3a"
             ],
             [
              0.8888888888888888,
              "#fdca26"
             ],
             [
              1,
              "#f0f921"
             ]
            ],
            "type": "heatmapgl"
           }
          ],
          "histogram": [
           {
            "marker": {
             "pattern": {
              "fillmode": "overlay",
              "size": 10,
              "solidity": 0.2
             }
            },
            "type": "histogram"
           }
          ],
          "histogram2d": [
           {
            "colorbar": {
             "outlinewidth": 0,
             "ticks": ""
            },
            "colorscale": [
             [
              0,
              "#0d0887"
             ],
             [
              0.1111111111111111,
              "#46039f"
             ],
             [
              0.2222222222222222,
              "#7201a8"
             ],
             [
              0.3333333333333333,
              "#9c179e"
             ],
             [
              0.4444444444444444,
              "#bd3786"
             ],
             [
              0.5555555555555556,
              "#d8576b"
             ],
             [
              0.6666666666666666,
              "#ed7953"
             ],
             [
              0.7777777777777778,
              "#fb9f3a"
             ],
             [
              0.8888888888888888,
              "#fdca26"
             ],
             [
              1,
              "#f0f921"
             ]
            ],
            "type": "histogram2d"
           }
          ],
          "histogram2dcontour": [
           {
            "colorbar": {
             "outlinewidth": 0,
             "ticks": ""
            },
            "colorscale": [
             [
              0,
              "#0d0887"
             ],
             [
              0.1111111111111111,
              "#46039f"
             ],
             [
              0.2222222222222222,
              "#7201a8"
             ],
             [
              0.3333333333333333,
              "#9c179e"
             ],
             [
              0.4444444444444444,
              "#bd3786"
             ],
             [
              0.5555555555555556,
              "#d8576b"
             ],
             [
              0.6666666666666666,
              "#ed7953"
             ],
             [
              0.7777777777777778,
              "#fb9f3a"
             ],
             [
              0.8888888888888888,
              "#fdca26"
             ],
             [
              1,
              "#f0f921"
             ]
            ],
            "type": "histogram2dcontour"
           }
          ],
          "mesh3d": [
           {
            "colorbar": {
             "outlinewidth": 0,
             "ticks": ""
            },
            "type": "mesh3d"
           }
          ],
          "parcoords": [
           {
            "line": {
             "colorbar": {
              "outlinewidth": 0,
              "ticks": ""
             }
            },
            "type": "parcoords"
           }
          ],
          "pie": [
           {
            "automargin": true,
            "type": "pie"
           }
          ],
          "scatter": [
           {
            "fillpattern": {
             "fillmode": "overlay",
             "size": 10,
             "solidity": 0.2
            },
            "type": "scatter"
           }
          ],
          "scatter3d": [
           {
            "line": {
             "colorbar": {
              "outlinewidth": 0,
              "ticks": ""
             }
            },
            "marker": {
             "colorbar": {
              "outlinewidth": 0,
              "ticks": ""
             }
            },
            "type": "scatter3d"
           }
          ],
          "scattercarpet": [
           {
            "marker": {
             "colorbar": {
              "outlinewidth": 0,
              "ticks": ""
             }
            },
            "type": "scattercarpet"
           }
          ],
          "scattergeo": [
           {
            "marker": {
             "colorbar": {
              "outlinewidth": 0,
              "ticks": ""
             }
            },
            "type": "scattergeo"
           }
          ],
          "scattergl": [
           {
            "marker": {
             "colorbar": {
              "outlinewidth": 0,
              "ticks": ""
             }
            },
            "type": "scattergl"
           }
          ],
          "scattermapbox": [
           {
            "marker": {
             "colorbar": {
              "outlinewidth": 0,
              "ticks": ""
             }
            },
            "type": "scattermapbox"
           }
          ],
          "scatterpolar": [
           {
            "marker": {
             "colorbar": {
              "outlinewidth": 0,
              "ticks": ""
             }
            },
            "type": "scatterpolar"
           }
          ],
          "scatterpolargl": [
           {
            "marker": {
             "colorbar": {
              "outlinewidth": 0,
              "ticks": ""
             }
            },
            "type": "scatterpolargl"
           }
          ],
          "scatterternary": [
           {
            "marker": {
             "colorbar": {
              "outlinewidth": 0,
              "ticks": ""
             }
            },
            "type": "scatterternary"
           }
          ],
          "surface": [
           {
            "colorbar": {
             "outlinewidth": 0,
             "ticks": ""
            },
            "colorscale": [
             [
              0,
              "#0d0887"
             ],
             [
              0.1111111111111111,
              "#46039f"
             ],
             [
              0.2222222222222222,
              "#7201a8"
             ],
             [
              0.3333333333333333,
              "#9c179e"
             ],
             [
              0.4444444444444444,
              "#bd3786"
             ],
             [
              0.5555555555555556,
              "#d8576b"
             ],
             [
              0.6666666666666666,
              "#ed7953"
             ],
             [
              0.7777777777777778,
              "#fb9f3a"
             ],
             [
              0.8888888888888888,
              "#fdca26"
             ],
             [
              1,
              "#f0f921"
             ]
            ],
            "type": "surface"
           }
          ],
          "table": [
           {
            "cells": {
             "fill": {
              "color": "#EBF0F8"
             },
             "line": {
              "color": "white"
             }
            },
            "header": {
             "fill": {
              "color": "#C8D4E3"
             },
             "line": {
              "color": "white"
             }
            },
            "type": "table"
           }
          ]
         },
         "layout": {
          "annotationdefaults": {
           "arrowcolor": "#2a3f5f",
           "arrowhead": 0,
           "arrowwidth": 1
          },
          "autotypenumbers": "strict",
          "coloraxis": {
           "colorbar": {
            "outlinewidth": 0,
            "ticks": ""
           }
          },
          "colorscale": {
           "diverging": [
            [
             0,
             "#8e0152"
            ],
            [
             0.1,
             "#c51b7d"
            ],
            [
             0.2,
             "#de77ae"
            ],
            [
             0.3,
             "#f1b6da"
            ],
            [
             0.4,
             "#fde0ef"
            ],
            [
             0.5,
             "#f7f7f7"
            ],
            [
             0.6,
             "#e6f5d0"
            ],
            [
             0.7,
             "#b8e186"
            ],
            [
             0.8,
             "#7fbc41"
            ],
            [
             0.9,
             "#4d9221"
            ],
            [
             1,
             "#276419"
            ]
           ],
           "sequential": [
            [
             0,
             "#0d0887"
            ],
            [
             0.1111111111111111,
             "#46039f"
            ],
            [
             0.2222222222222222,
             "#7201a8"
            ],
            [
             0.3333333333333333,
             "#9c179e"
            ],
            [
             0.4444444444444444,
             "#bd3786"
            ],
            [
             0.5555555555555556,
             "#d8576b"
            ],
            [
             0.6666666666666666,
             "#ed7953"
            ],
            [
             0.7777777777777778,
             "#fb9f3a"
            ],
            [
             0.8888888888888888,
             "#fdca26"
            ],
            [
             1,
             "#f0f921"
            ]
           ],
           "sequentialminus": [
            [
             0,
             "#0d0887"
            ],
            [
             0.1111111111111111,
             "#46039f"
            ],
            [
             0.2222222222222222,
             "#7201a8"
            ],
            [
             0.3333333333333333,
             "#9c179e"
            ],
            [
             0.4444444444444444,
             "#bd3786"
            ],
            [
             0.5555555555555556,
             "#d8576b"
            ],
            [
             0.6666666666666666,
             "#ed7953"
            ],
            [
             0.7777777777777778,
             "#fb9f3a"
            ],
            [
             0.8888888888888888,
             "#fdca26"
            ],
            [
             1,
             "#f0f921"
            ]
           ]
          },
          "colorway": [
           "#636efa",
           "#EF553B",
           "#00cc96",
           "#ab63fa",
           "#FFA15A",
           "#19d3f3",
           "#FF6692",
           "#B6E880",
           "#FF97FF",
           "#FECB52"
          ],
          "font": {
           "color": "#2a3f5f"
          },
          "geo": {
           "bgcolor": "white",
           "lakecolor": "white",
           "landcolor": "#E5ECF6",
           "showlakes": true,
           "showland": true,
           "subunitcolor": "white"
          },
          "hoverlabel": {
           "align": "left"
          },
          "hovermode": "closest",
          "mapbox": {
           "style": "light"
          },
          "paper_bgcolor": "white",
          "plot_bgcolor": "#E5ECF6",
          "polar": {
           "angularaxis": {
            "gridcolor": "white",
            "linecolor": "white",
            "ticks": ""
           },
           "bgcolor": "#E5ECF6",
           "radialaxis": {
            "gridcolor": "white",
            "linecolor": "white",
            "ticks": ""
           }
          },
          "scene": {
           "xaxis": {
            "backgroundcolor": "#E5ECF6",
            "gridcolor": "white",
            "gridwidth": 2,
            "linecolor": "white",
            "showbackground": true,
            "ticks": "",
            "zerolinecolor": "white"
           },
           "yaxis": {
            "backgroundcolor": "#E5ECF6",
            "gridcolor": "white",
            "gridwidth": 2,
            "linecolor": "white",
            "showbackground": true,
            "ticks": "",
            "zerolinecolor": "white"
           },
           "zaxis": {
            "backgroundcolor": "#E5ECF6",
            "gridcolor": "white",
            "gridwidth": 2,
            "linecolor": "white",
            "showbackground": true,
            "ticks": "",
            "zerolinecolor": "white"
           }
          },
          "shapedefaults": {
           "line": {
            "color": "#2a3f5f"
           }
          },
          "ternary": {
           "aaxis": {
            "gridcolor": "white",
            "linecolor": "white",
            "ticks": ""
           },
           "baxis": {
            "gridcolor": "white",
            "linecolor": "white",
            "ticks": ""
           },
           "bgcolor": "#E5ECF6",
           "caxis": {
            "gridcolor": "white",
            "linecolor": "white",
            "ticks": ""
           }
          },
          "title": {
           "x": 0.05
          },
          "xaxis": {
           "automargin": true,
           "gridcolor": "white",
           "linecolor": "white",
           "ticks": "",
           "title": {
            "standoff": 15
           },
           "zerolinecolor": "white",
           "zerolinewidth": 2
          },
          "yaxis": {
           "automargin": true,
           "gridcolor": "white",
           "linecolor": "white",
           "ticks": "",
           "title": {
            "standoff": 15
           },
           "zerolinecolor": "white",
           "zerolinewidth": 2
          }
         }
        },
        "title": {
         "text": "Expected Years of Schooling vs CO2 Emissions per Capita"
        },
        "xaxis": {
         "anchor": "y",
         "autorange": true,
         "domain": [
          0,
          1
         ],
         "range": [
          -0.5322477113624124,
          10.068247711362412
         ],
         "title": {
          "text": "CO2 Emissions per Capita (Mt)"
         },
         "type": "linear"
        },
        "yaxis": {
         "anchor": "x",
         "autorange": true,
         "domain": [
          0,
          1
         ],
         "range": [
          4.411650485436892,
          21.188349514563107
         ],
         "title": {
          "text": "Expected Years of Schooling"
         },
         "type": "linear"
        }
       }
      },
      "image/png": "[encoded data removed]",
      "text/html": [
       "<div>                            <div id=\"a7faa624-75a3-4d29-8ce7-8f39e02f6ad1\" class=\"plotly-graph-div\" style=\"height:525px; width:100%;\"></div>            <script type=\"text/javascript\">                require([\"plotly\"], function(Plotly) {                    window.PLOTLYENV=window.PLOTLYENV || {};                                    if (document.getElementById(\"a7faa624-75a3-4d29-8ce7-8f39e02f6ad1\")) {                    Plotly.newPlot(                        \"a7faa624-75a3-4d29-8ce7-8f39e02f6ad1\",                        [{\"hovertemplate\":\"\\u003cb\\u003e%{hovertext}\\u003c\\u002fb\\u003e\\u003cbr\\u003e\\u003cbr\\u003eCO2 Emissions per Capita (Mt)=%{x}\\u003cbr\\u003eExpected Years of Schooling=%{y}\\u003cbr\\u003eGNI per capita rank minus HDI rank=%{marker.color}\\u003cextra\\u003e\\u003c\\u002fextra\\u003e\",\"hovertext\":[\"Afghanistan\",\"Albania\",\"Algeria\",\"Andorra\",\"Angola\",\"Antigua and Barbuda\",\"Argentina\",\"Armenia\",\"Austria\",\"Azerbaijan\",\"Bahamas\",\"Bangladesh\",\"Barbados\",\"Belarus\",\"Belgium\",\"Belize\",\"Benin\",\"Bhutan\",\"Bolivia\",\"Bosnia and Herzegovina\",\"Botswana\",\"Brazil\",\"Bulgaria\",\"Burkina Faso\",\"Burundi\",\"Cambodia\",\"Cameroon\",\"Cape Verde\",\"Central African Republic\",\"Chad\",\"Chile\",\"China\",\"Colombia\",\"Comoros\",\"Congo\",\"Costa Rica\",\"Cote d'Ivoire\",\"Croatia\",\"Cuba\",\"Cyprus\",\"Czechia\",\"Democratic Republic of Congo\",\"Denmark\",\"Djibouti\",\"Dominica\",\"Dominican Republic\",\"East Timor\",\"Ecuador\",\"Egypt\",\"El Salvador\",\"Equatorial Guinea\",\"Eritrea\",\"Estonia\",\"Eswatini\",\"Ethiopia\",\"Fiji\",\"Finland\",\"France\",\"Gabon\",\"Gambia\",\"Georgia\",\"Germany\",\"Ghana\",\"Greece\",\"Grenada\",\"Guatemala\",\"Guinea\",\"Guinea-Bissau\",\"Guyana\",\"Haiti\",\"Honduras\",\"Hong Kong\",\"Hungary\",\"Iceland\",\"India\",\"Indonesia\",\"Iran\",\"Iraq\",\"Ireland\",\"Israel\",\"Italy\",\"Jamaica\",\"Japan\",\"Jordan\",\"Kenya\",\"Kiribati\",\"Kyrgyzstan\",\"Laos\",\"Latvia\",\"Lebanon\",\"Lesotho\",\"Liberia\",\"Libya\",\"Liechtenstein\",\"Lithuania\",\"Madagascar\",\"Malawi\",\"Malaysia\",\"Maldives\",\"Mali\",\"Malta\",\"Marshall Islands\",\"Mauritania\",\"Mauritius\",\"Mexico\",\"Micronesia (country)\",\"Moldova\",\"Montenegro\",\"Morocco\",\"Mozambique\",\"Myanmar\",\"Namibia\",\"Nauru\",\"Nepal\",\"Netherlands\",\"New Zealand\",\"Nicaragua\",\"Niger\",\"Nigeria\",\"North Macedonia\",\"Norway\",\"Pakistan\",\"Palestine\",\"Panama\",\"Papua New Guinea\",\"Paraguay\",\"Peru\",\"Philippines\",\"Poland\",\"Portugal\",\"Romania\",\"Rwanda\",\"Saint Kitts and Nevis\",\"Saint Lucia\",\"Saint Vincent and the Grenadines\",\"Samoa\",\"San Marino\",\"Sao Tome and Principe\",\"Senegal\",\"Serbia\",\"Seychelles\",\"Sierra Leone\",\"Singapore\",\"Slovakia\",\"Slovenia\",\"Solomon Islands\",\"Somalia\",\"South Africa\",\"South Sudan\",\"Spain\",\"Sri Lanka\",\"Sudan\",\"Suriname\",\"Sweden\",\"Switzerland\",\"Syria\",\"Tajikistan\",\"Tanzania\",\"Thailand\",\"Togo\",\"Tonga\",\"Tunisia\",\"Turkey\",\"Tuvalu\",\"Uganda\",\"Ukraine\",\"United Kingdom\",\"Uruguay\",\"Uzbekistan\",\"Vanuatu\",\"Venezuela\",\"Vietnam\",\"Yemen\",\"Zambia\",\"Zimbabwe\"],\"legendgroup\":\"\",\"marker\":{\"color\":[2.0,7.0,13.0,-15.0,-11.0,18.0,17.0,4.0,-5.0,-7.0,-9.0,2.0,24.0,5.0,9.0,-3.0,-14.0,-15.0,3.0,-3.0,-29.0,0.0,-12.0,-9.0,5.0,0.0,3.0,-4.0,0.0,-6.0,15.0,0.0,-8.0,8.0,14.0,2.0,-30.0,5.0,40.0,7.0,6.0,9.0,6.0,-29.0,-1.0,-9.0,24.0,25.0,-8.0,-7.0,-24.0,2.0,9.0,-21.0,-8.0,0.0,11.0,-1.0,-18.0,-1.0,19.0,11.0,-10.0,20.0,18.0,-17.0,-14.0,-1.0,-54.0,6.0,2.0,6.0,-2.0,16.0,-6.0,-12.0,10.0,-11.0,-3.0,9.0,1.0,-2.0,9.0,15.0,-3.0,21.0,28.0,-13.0,13.0,-11.0,-3.0,8.0,-25.0,-11.0,2.0,4.0,10.0,-7.0,-16.0,-13.0,5.0,28.0,-26.0,-12.0,-7.0,18.0,8.0,12.0,4.0,4.0,6.0,-26.0,-38.0,5.0,4.0,16.0,4.0,-3.0,-15.0,-5.0,6.0,-27.0,18.0,-6.0,-2.0,-9.0,14.0,5.0,7.0,0.0,-1.0,8.0,3.0,-21.0,9.0,25.0,-30.0,8.0,-12.0,3.0,-12.0,-4.0,-6.0,4.0,13.0,14.0,-3.0,-18.0,1.0,10.0,24.0,-14.0,-25.0,10.0,6.0,-2.0,18.0,-1.0,10.0,9.0,34.0,11.0,2.0,15.0,12.0,3.0,13.0,12.0,16.0,21.0,14.0,0.0,2.0,9.0,15.0],\"coloraxis\":\"coloraxis\",\"symbol\":\"circle\"},\"mode\":\"markers\",\"name\":\"\",\"orientation\":\"v\",\"showlegend\":false,\"x\":[0.295,1.743,3.927,4.617,0.452,6.422,4.238,2.305,6.878,3.675,5.171,0.596,4.377,6.167,7.688,1.789,0.631,1.349,1.758,6.103,2.839,2.245,6.804,0.263,0.062,1.19,0.343,0.959,0.041,0.134,4.304,7.993,1.922,0.493,1.245,1.523,0.417,4.349,1.866,5.617,9.336,0.036,4.94,0.404,2.106,2.105,0.499,2.312,2.333,1.217,3.031,0.189,7.776,1.053,0.155,1.155,6.527,4.604,2.388,0.285,2.963,7.984,0.622,5.745,2.713,1.076,0.357,0.155,4.374,0.211,1.07,4.082,4.45,9.5,1.997,2.646,7.799,4.025,7.721,6.209,5.727,2.295,8.502,2.03,0.46,0.518,1.425,3.08,3.562,4.354,1.359,0.165,9.242,3.81,4.606,0.149,0.103,8.577,3.248,0.312,3.104,3.635,0.957,3.27,4.015,1.324,1.657,3.656,1.826,0.243,0.645,1.54,4.17,0.507,7.137,6.212,0.799,0.117,0.589,3.625,7.509,0.849,0.666,2.699,0.771,1.33,1.789,1.301,8.107,4.051,3.74,0.112,4.708,2.615,2.296,1.122,null,0.582,0.674,6.025,6.15,0.131,8.912,6.052,5.998,0.412,0.037,6.746,0.168,5.164,0.794,0.47,5.803,3.607,4.048,1.249,1.006,0.238,3.776,0.291,1.769,2.879,5.105,1.0,0.127,3.558,4.72,2.306,3.483,0.636,2.717,3.5,0.337,0.446,0.543],\"xaxis\":\"x\",\"y\":[10.7,14.5,15.5,12.8,12.2,15.5,19.0,14.4,16.4,12.7,11.9,11.9,16.5,14.0,18.9,12.4,10.3,13.1,15.0,13.3,11.4,15.6,13.9,8.1,10.0,11.6,13.4,11.5,7.3,8.2,16.8,15.2,14.4,13.0,12.4,16.1,10.1,15.6,14.5,16.2,16.3,9.6,18.8,8.0,13.6,13.6,13.2,14.9,12.9,11.9,12.1,7.3,15.9,14.9,9.9,13.8,19.2,16.0,12.4,9.0,16.7,17.3,11.6,20.0,16.6,10.8,10.2,10.5,13.0,11.1,10.0,17.8,15.1,19.1,12.6,14.0,14.1,12.2,19.1,15.0,16.7,12.5,15.5,12.6,11.4,11.8,13.0,10.2,16.6,12.1,11.1,10.5,14.0,15.5,16.4,9.2,11.5,12.9,12.2,7.0,15.9,16.4,8.1,14.6,14.5,12.6,14.9,15.1,14.6,10.7,12.1,11.8,12.6,12.6,18.6,19.7,12.6,7.2,10.5,13.0,18.6,7.9,13.2,13.2,11.1,13.9,14.8,12.8,15.9,16.8,14.5,11.4,18.4,12.7,16.3,12.4,12.4,12.7,9.1,14.5,13.9,9.0,16.9,14.7,17.4,10.3,7.6,14.3,5.6,17.8,13.6,8.5,11.0,19.0,16.6,7.4,10.9,8.6,15.6,13.0,16.3,14.6,19.7,12.1,11.5,13.3,17.6,17.4,12.0,11.8,13.5,13.1,7.9,11.0,11.0],\"yaxis\":\"y\",\"type\":\"scatter\"}],                        {\"template\":{\"data\":{\"histogram2dcontour\":[{\"type\":\"histogram2dcontour\",\"colorbar\":{\"outlinewidth\":0,\"ticks\":\"\"},\"colorscale\":[[0.0,\"#0d0887\"],[0.1111111111111111,\"#46039f\"],[0.2222222222222222,\"#7201a8\"],[0.3333333333333333,\"#9c179e\"],[0.4444444444444444,\"#bd3786\"],[0.5555555555555556,\"#d8576b\"],[0.6666666666666666,\"#ed7953\"],[0.7777777777777778,\"#fb9f3a\"],[0.8888888888888888,\"#fdca26\"],[1.0,\"#f0f921\"]]}],\"choropleth\":[{\"type\":\"choropleth\",\"colorbar\":{\"outlinewidth\":0,\"ticks\":\"\"}}],\"histogram2d\":[{\"type\":\"histogram2d\",\"colorbar\":{\"outlinewidth\":0,\"ticks\":\"\"},\"colorscale\":[[0.0,\"#0d0887\"],[0.1111111111111111,\"#46039f\"],[0.2222222222222222,\"#7201a8\"],[0.3333333333333333,\"#9c179e\"],[0.4444444444444444,\"#bd3786\"],[0.5555555555555556,\"#d8576b\"],[0.6666666666666666,\"#ed7953\"],[0.7777777777777778,\"#fb9f3a\"],[0.8888888888888888,\"#fdca26\"],[1.0,\"#f0f921\"]]}],\"heatmap\":[{\"type\":\"heatmap\",\"colorbar\":{\"outlinewidth\":0,\"ticks\":\"\"},\"colorscale\":[[0.0,\"#0d0887\"],[0.1111111111111111,\"#46039f\"],[0.2222222222222222,\"#7201a8\"],[0.3333333333333333,\"#9c179e\"],[0.4444444444444444,\"#bd3786\"],[0.5555555555555556,\"#d8576b\"],[0.6666666666666666,\"#ed7953\"],[0.7777777777777778,\"#fb9f3a\"],[0.8888888888888888,\"#fdca26\"],[1.0,\"#f0f921\"]]}],\"heatmapgl\":[{\"type\":\"heatmapgl\",\"colorbar\":{\"outlinewidth\":0,\"ticks\":\"\"},\"colorscale\":[[0.0,\"#0d0887\"],[0.1111111111111111,\"#46039f\"],[0.2222222222222222,\"#7201a8\"],[0.3333333333333333,\"#9c179e\"],[0.4444444444444444,\"#bd3786\"],[0.5555555555555556,\"#d8576b\"],[0.6666666666666666,\"#ed7953\"],[0.7777777777777778,\"#fb9f3a\"],[0.8888888888888888,\"#fdca26\"],[1.0,\"#f0f921\"]]}],\"contourcarpet\":[{\"type\":\"contourcarpet\",\"colorbar\":{\"outlinewidth\":0,\"ticks\":\"\"}}],\"contour\":[{\"type\":\"contour\",\"colorbar\":{\"outlinewidth\":0,\"ticks\":\"\"},\"colorscale\":[[0.0,\"#0d0887\"],[0.1111111111111111,\"#46039f\"],[0.2222222222222222,\"#7201a8\"],[0.3333333333333333,\"#9c179e\"],[0.4444444444444444,\"#bd3786\"],[0.5555555555555556,\"#d8576b\"],[0.6666666666666666,\"#ed7953\"],[0.7777777777777778,\"#fb9f3a\"],[0.8888888888888888,\"#fdca26\"],[1.0,\"#f0f921\"]]}],\"surface\":[{\"type\":\"surface\",\"colorbar\":{\"outlinewidth\":0,\"ticks\":\"\"},\"colorscale\":[[0.0,\"#0d0887\"],[0.1111111111111111,\"#46039f\"],[0.2222222222222222,\"#7201a8\"],[0.3333333333333333,\"#9c179e\"],[0.4444444444444444,\"#bd3786\"],[0.5555555555555556,\"#d8576b\"],[0.6666666666666666,\"#ed7953\"],[0.7777777777777778,\"#fb9f3a\"],[0.8888888888888888,\"#fdca26\"],[1.0,\"#f0f921\"]]}],\"mesh3d\":[{\"type\":\"mesh3d\",\"colorbar\":{\"outlinewidth\":0,\"ticks\":\"\"}}],\"scatter\":[{\"fillpattern\":{\"fillmode\":\"overlay\",\"size\":10,\"solidity\":0.2},\"type\":\"scatter\"}],\"parcoords\":[{\"type\":\"parcoords\",\"line\":{\"colorbar\":{\"outlinewidth\":0,\"ticks\":\"\"}}}],\"scatterpolargl\":[{\"type\":\"scatterpolargl\",\"marker\":{\"colorbar\":{\"outlinewidth\":0,\"ticks\":\"\"}}}],\"bar\":[{\"error_x\":{\"color\":\"#2a3f5f\"},\"error_y\":{\"color\":\"#2a3f5f\"},\"marker\":{\"line\":{\"color\":\"#E5ECF6\",\"width\":0.5},\"pattern\":{\"fillmode\":\"overlay\",\"size\":10,\"solidity\":0.2}},\"type\":\"bar\"}],\"scattergeo\":[{\"type\":\"scattergeo\",\"marker\":{\"colorbar\":{\"outlinewidth\":0,\"ticks\":\"\"}}}],\"scatterpolar\":[{\"type\":\"scatterpolar\",\"marker\":{\"colorbar\":{\"outlinewidth\":0,\"ticks\":\"\"}}}],\"histogram\":[{\"marker\":{\"pattern\":{\"fillmode\":\"overlay\",\"size\":10,\"solidity\":0.2}},\"type\":\"histogram\"}],\"scattergl\":[{\"type\":\"scattergl\",\"marker\":{\"colorbar\":{\"outlinewidth\":0,\"ticks\":\"\"}}}],\"scatter3d\":[{\"type\":\"scatter3d\",\"line\":{\"colorbar\":{\"outlinewidth\":0,\"ticks\":\"\"}},\"marker\":{\"colorbar\":{\"outlinewidth\":0,\"ticks\":\"\"}}}],\"scattermapbox\":[{\"type\":\"scattermapbox\",\"marker\":{\"colorbar\":{\"outlinewidth\":0,\"ticks\":\"\"}}}],\"scatterternary\":[{\"type\":\"scatterternary\",\"marker\":{\"colorbar\":{\"outlinewidth\":0,\"ticks\":\"\"}}}],\"scattercarpet\":[{\"type\":\"scattercarpet\",\"marker\":{\"colorbar\":{\"outlinewidth\":0,\"ticks\":\"\"}}}],\"carpet\":[{\"aaxis\":{\"endlinecolor\":\"#2a3f5f\",\"gridcolor\":\"white\",\"linecolor\":\"white\",\"minorgridcolor\":\"white\",\"startlinecolor\":\"#2a3f5f\"},\"baxis\":{\"endlinecolor\":\"#2a3f5f\",\"gridcolor\":\"white\",\"linecolor\":\"white\",\"minorgridcolor\":\"white\",\"startlinecolor\":\"#2a3f5f\"},\"type\":\"carpet\"}],\"table\":[{\"cells\":{\"fill\":{\"color\":\"#EBF0F8\"},\"line\":{\"color\":\"white\"}},\"header\":{\"fill\":{\"color\":\"#C8D4E3\"},\"line\":{\"color\":\"white\"}},\"type\":\"table\"}],\"barpolar\":[{\"marker\":{\"line\":{\"color\":\"#E5ECF6\",\"width\":0.5},\"pattern\":{\"fillmode\":\"overlay\",\"size\":10,\"solidity\":0.2}},\"type\":\"barpolar\"}],\"pie\":[{\"automargin\":true,\"type\":\"pie\"}]},\"layout\":{\"autotypenumbers\":\"strict\",\"colorway\":[\"#636efa\",\"#EF553B\",\"#00cc96\",\"#ab63fa\",\"#FFA15A\",\"#19d3f3\",\"#FF6692\",\"#B6E880\",\"#FF97FF\",\"#FECB52\"],\"font\":{\"color\":\"#2a3f5f\"},\"hovermode\":\"closest\",\"hoverlabel\":{\"align\":\"left\"},\"paper_bgcolor\":\"white\",\"plot_bgcolor\":\"#E5ECF6\",\"polar\":{\"bgcolor\":\"#E5ECF6\",\"angularaxis\":{\"gridcolor\":\"white\",\"linecolor\":\"white\",\"ticks\":\"\"},\"radialaxis\":{\"gridcolor\":\"white\",\"linecolor\":\"white\",\"ticks\":\"\"}},\"ternary\":{\"bgcolor\":\"#E5ECF6\",\"aaxis\":{\"gridcolor\":\"white\",\"linecolor\":\"white\",\"ticks\":\"\"},\"baxis\":{\"gridcolor\":\"white\",\"linecolor\":\"white\",\"ticks\":\"\"},\"caxis\":{\"gridcolor\":\"white\",\"linecolor\":\"white\",\"ticks\":\"\"}},\"coloraxis\":{\"colorbar\":{\"outlinewidth\":0,\"ticks\":\"\"}},\"colorscale\":{\"sequential\":[[0.0,\"#0d0887\"],[0.1111111111111111,\"#46039f\"],[0.2222222222222222,\"#7201a8\"],[0.3333333333333333,\"#9c179e\"],[0.4444444444444444,\"#bd3786\"],[0.5555555555555556,\"#d8576b\"],[0.6666666666666666,\"#ed7953\"],[0.7777777777777778,\"#fb9f3a\"],[0.8888888888888888,\"#fdca26\"],[1.0,\"#f0f921\"]],\"sequentialminus\":[[0.0,\"#0d0887\"],[0.1111111111111111,\"#46039f\"],[0.2222222222222222,\"#7201a8\"],[0.3333333333333333,\"#9c179e\"],[0.4444444444444444,\"#bd3786\"],[0.5555555555555556,\"#d8576b\"],[0.6666666666666666,\"#ed7953\"],[0.7777777777777778,\"#fb9f3a\"],[0.8888888888888888,\"#fdca26\"],[1.0,\"#f0f921\"]],\"diverging\":[[0,\"#8e0152\"],[0.1,\"#c51b7d\"],[0.2,\"#de77ae\"],[0.3,\"#f1b6da\"],[0.4,\"#fde0ef\"],[0.5,\"#f7f7f7\"],[0.6,\"#e6f5d0\"],[0.7,\"#b8e186\"],[0.8,\"#7fbc41\"],[0.9,\"#4d9221\"],[1,\"#276419\"]]},\"xaxis\":{\"gridcolor\":\"white\",\"linecolor\":\"white\",\"ticks\":\"\",\"title\":{\"standoff\":15},\"zerolinecolor\":\"white\",\"automargin\":true,\"zerolinewidth\":2},\"yaxis\":{\"gridcolor\":\"white\",\"linecolor\":\"white\",\"ticks\":\"\",\"title\":{\"standoff\":15},\"zerolinecolor\":\"white\",\"automargin\":true,\"zerolinewidth\":2},\"scene\":{\"xaxis\":{\"backgroundcolor\":\"#E5ECF6\",\"gridcolor\":\"white\",\"linecolor\":\"white\",\"showbackground\":true,\"ticks\":\"\",\"zerolinecolor\":\"white\",\"gridwidth\":2},\"yaxis\":{\"backgroundcolor\":\"#E5ECF6\",\"gridcolor\":\"white\",\"linecolor\":\"white\",\"showbackground\":true,\"ticks\":\"\",\"zerolinecolor\":\"white\",\"gridwidth\":2},\"zaxis\":{\"backgroundcolor\":\"#E5ECF6\",\"gridcolor\":\"white\",\"linecolor\":\"white\",\"showbackground\":true,\"ticks\":\"\",\"zerolinecolor\":\"white\",\"gridwidth\":2}},\"shapedefaults\":{\"line\":{\"color\":\"#2a3f5f\"}},\"annotationdefaults\":{\"arrowcolor\":\"#2a3f5f\",\"arrowhead\":0,\"arrowwidth\":1},\"geo\":{\"bgcolor\":\"white\",\"landcolor\":\"#E5ECF6\",\"subunitcolor\":\"white\",\"showland\":true,\"showlakes\":true,\"lakecolor\":\"white\"},\"title\":{\"x\":0.05},\"mapbox\":{\"style\":\"light\"}}},\"xaxis\":{\"anchor\":\"y\",\"domain\":[0.0,1.0],\"title\":{\"text\":\"CO2 Emissions per Capita (Mt)\"}},\"yaxis\":{\"anchor\":\"x\",\"domain\":[0.0,1.0],\"title\":{\"text\":\"Expected Years of Schooling\"}},\"coloraxis\":{\"colorbar\":{\"title\":{\"text\":\"GNI per capita rank minus HDI rank\"}},\"colorscale\":[[0.0,\"#0d0887\"],[0.1111111111111111,\"#46039f\"],[0.2222222222222222,\"#7201a8\"],[0.3333333333333333,\"#9c179e\"],[0.4444444444444444,\"#bd3786\"],[0.5555555555555556,\"#d8576b\"],[0.6666666666666666,\"#ed7953\"],[0.7777777777777778,\"#fb9f3a\"],[0.8888888888888888,\"#fdca26\"],[1.0,\"#f0f921\"]]},\"legend\":{\"tracegroupgap\":0},\"title\":{\"text\":\"Expected Years of Schooling vs CO2 Emissions per Capita\"}},                        {\"responsive\": true}                    ).then(function(){\n",
       "                            \n",
       "var gd = document.getElementById('a7faa624-75a3-4d29-8ce7-8f39e02f6ad1');\n",
       "var x = new MutationObserver(function (mutations, observer) {{\n",
       "        var display = window.getComputedStyle(gd).display;\n",
       "        if (!display || display === 'none') {{\n",
       "            console.log([gd, 'removed!']);\n",
       "            Plotly.purge(gd);\n",
       "            observer.disconnect();\n",
       "        }}\n",
       "}});\n",
       "\n",
       "// Listen for the removal of the full notebook cells\n",
       "var notebookContainer = gd.closest('#notebook-container');\n",
       "if (notebookContainer) {{\n",
       "    x.observe(notebookContainer, {childList: true});\n",
       "}}\n",
       "\n",
       "// Listen for the clearing of the current output cell\n",
       "var outputEl = gd.closest('.output');\n",
       "if (outputEl) {{\n",
       "    x.observe(outputEl, {childList: true});\n",
       "}}\n",
       "\n",
       "                        })                };                });            </script>        </div>"
      ]
     },
     "metadata": {},
     "output_type": "display_data"
    }
   ],
   "source": [
    "\n",
    "# Maak een scatter plot met Plotly\n",
    "fig = px.scatter(df_result, x='co2_per_capita', y='Expected years of schooling',\n",
    "                 color='GNI per capita rank minus HDI rank', hover_name='location',\n",
    "                 title='Expected Years of Schooling vs CO2 Emissions per Capita',\n",
    "                 labels={\n",
    "                     'co2_per_capita': 'CO2 Emissions per Capita (Mt)',\n",
    "                     'Expected years of schooling': 'Expected Years of Schooling',\n",
    "                     'GNI per capita rank minus HDI rank': 'GNI per capita rank minus HDI rank'\n",
    "                 })\n",
    "\n",
    "# Toon de plot\n",
    "fig.show()"
   ]
  },
  {
   "cell_type": "code",
   "execution_count": null,
   "id": "78ffdd80-44a4-4b84-8204-e8dc546a4115",
   "metadata": {},
   "outputs": [],
   "source": []
  }
 ],
 "metadata": {
  "kernelspec": {
   "display_name": "Python 3 (ipykernel)",
   "language": "python",
   "name": "python3"
  },
  "language_info": {
   "codemirror_mode": {
    "name": "ipython",
    "version": 3
   },
   "file_extension": ".py",
   "mimetype": "text/x-python",
   "name": "python",
   "nbconvert_exporter": "python",
   "pygments_lexer": "ipython3",
   "version": "3.10.12"
  }
 },
 "nbformat": 4,
 "nbformat_minor": 5
}
