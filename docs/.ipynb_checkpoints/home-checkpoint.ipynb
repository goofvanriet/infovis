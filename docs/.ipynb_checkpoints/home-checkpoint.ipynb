{
 "cells": [
  {
   "cell_type": "code",
   "execution_count": 3,
   "metadata": {},
   "outputs": [],
   "source": [
    "%run set_theme.ipynb"
   ]
  },
  {
   "cell_type": "markdown",
   "metadata": {},
   "source": [
    "# Introduction\n",
    "\n",
    "This will be the introduction page of our jupyter book, treat this as a landing page."
   ]
  },
  {
   "cell_type": "markdown",
   "metadata": {},
   "source": [
    "[Click here to read the data story. ](https://goofvanriet.github.io/infovis/docs/story.html)"
   ]
  },
  {
   "cell_type": "markdown",
   "metadata": {},
   "source": [
    "**Authors**\n",
    "- Anou Prins\n",
    "- Efehan Kuznek\n",
    "- Tom Kuin\n",
    "- Goof van Riet"
   ]
  },
  {
   "cell_type": "markdown",
   "metadata": {},
   "source": [
    "## Inleiding\n",
    "\n",
    "Terwijl economische groei lange tijd werd gezien als een manier om de wereldwijde levensstandaarden te verbeteren, roept deze ontwikkeling de laatste decennia vragen op over de duurzaamheid ervan. \n",
    "Hoewel nieuwe wetten en beleiden zijn ingevoerd die gericht zijn op het verminderen van wereldwijde CO2-emissies, blijft het een onopgelost probleem. \n",
    "We zien dit terug in het nieuws en in protesten, die zich vooral plaatsvinden in westerse, welvarende landen. \n",
    "\n"
   ]
  },
  {
   "cell_type": "markdown",
   "metadata": {},
   "source": [
    "Om de huidige staat van CO2-emissies te visualiseren, zien we in onderstaand figuur de verdeling van CO2-emissies per bron. Deze verdeling benadrukt dat olie in 2022 de dominante bron van CO2-uitstoot is, en dat grondstoffen als steenkool, nog steeds een groot aandeel van de CO2-emissies bedragen. Het feit dat koolstof, een bekend milieuonvriendelijke grondstof, nog steeds een aanzienlijke bijdrage levert, laat de relevantie van dit probleem zien.  "
   ]
  },
  {
   "cell_type": "code",
   "execution_count": 4,
   "metadata": {},
   "outputs": [],
   "source": [
    "#%run co2_sources_2022.ipynb"
   ]
  },
  {
   "cell_type": "markdown",
   "metadata": {},
   "source": [
    "<img title=\"a title\" alt=\"Alt text\" src=\"/images/coal_pie_chart.png\">"
   ]
  },
  {
   "cell_type": "markdown",
   "metadata": {},
   "source": [
    "In dit onderzoek willen wij onderzoeken hoe de welvaart van landen correleert met trends in CO2-uitstoot. In het bijzonder zullen we de correlatie tussen jaarlijkse CO2-uitstoot en kenmerken zoals HDI verkennen. HDI is een samengestelde index die de menselijke ontwikkeling meet aan de hand van levensverwachting, onderwijsniveau en inkomen per capita. Om ons te verdiepen in de correlatie tussen CO2-emissies en HDI, willen we ook kijken naar de invloeden van de HDI-indicatoren op CO2-uitstoot. Dit doen we door te kijken naar het Bruto Binnenlands Product (BBP) per capita en levensverwachting. Door gebruik te maken van een uitgebreide dataset over CO2-emissies, aangeboden door Our World In Data (Ritchie et al., 2023), kunnen we de emissie-trends over de jaren heen analyseren. Voor de HDI-gegevens maken we gebruik van een dataset uit de Human development Reports (UNDP, 2023).\n",
    "\n",
    "### Referenties\n",
    "1. Ritchie, H., Roser, M., & Rosado, P. (2023). CO2 and Greenhouse Gas Emissions Data. Our World in Data. Retrieved from https://github.com/owid/co2-data/blob/master/owid-co2-codebook.csv\n",
    "\n",
    "2. United Nations Development Programme (UNDP). (2023). Human Development Index (HDI). Human Development Data Center. Retrieved from https://hdr.undp.org/data-center/human-development-index#/indicies/HDI\n"
   ]
  },
  {
   "cell_type": "code",
   "execution_count": null,
   "metadata": {},
   "outputs": [],
   "source": []
  },
  {
   "cell_type": "code",
   "execution_count": null,
   "metadata": {},
   "outputs": [],
   "source": []
  }
 ],
 "metadata": {
  "kernelspec": {
   "display_name": "Python 3 (ipykernel)",
   "language": "python",
   "name": "python3"
  },
  "language_info": {
   "codemirror_mode": {
    "name": "ipython",
    "version": 3
   },
   "file_extension": ".py",
   "mimetype": "text/x-python",
   "name": "python",
   "nbconvert_exporter": "python",
   "pygments_lexer": "ipython3",
   "version": "3.11.5"
  }
 },
 "nbformat": 4,
 "nbformat_minor": 4
}
