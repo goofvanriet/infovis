{
 "cells": [
  {
   "cell_type": "code",
   "execution_count": null,
   "metadata": {},
   "outputs": [],
   "source": [
    "import pandas as pd\n",
    "import plotly.express as px\n",
    "\n",
    "# Load the dataset\n",
    "# Assuming the dataset is in a CSV file named 'emissions_data.csv'\n",
    "df = pd.read_csv('owid-co2-data.csv')\n",
    "\n",
    "# Filter data for years 1973 to 2022\n",
    "filtered_df = df[(df['year'] >= 1973) & (df['year'] <= 2022)]\n",
    "\n",
    "# Group by year and sum the CO2 emissions for all countries\n",
    "annual_co2_emissions = filtered_df.groupby('year')['co2'].sum().reset_index()\n",
    "\n",
    "# Create an interactive line plot using Plotly\n",
    "fig = px.line(\n",
    "    annual_co2_emissions,\n",
    "    x='year',\n",
    "    y='co2',\n",
    "    title='Total CO₂ Emissions from 1973 to 2022',\n",
    "    labels={'year': 'Year', 'co2': 'Total CO₂ Emissions (million tonnes)'},\n",
    "    template='plotly_white'\n",
    ")\n",
    "\n",
    "# Customize the plot to match the provided example\n",
    "fig.update_layout(\n",
    "    title_font_size=14,\n",
    "    xaxis_title_font_size=12,\n",
    "    yaxis_title_font_size=12,\n",
    "    plot_bgcolor='#f5f5dc'\n",
    ")\n",
    "\n",
    "# Adding an annotation to explain the graph (optional)\n",
    "fig.add_annotation(\n",
    "    text=\"This shows the total CO₂ emissions over the years 1973 to 2022.\",\n",
    "    xref=\"paper\", yref=\"paper\",\n",
    "    x=0.5, y=-0.2, showarrow=False,\n",
    "    font=dict(size=10),\n",
    "    xanchor='center'\n",
    ")\n",
    "\n",
    "# Show the plot\n",
    "fig.show()"
   ]
  }
 ],
 "metadata": {
  "language_info": {
   "name": "python"
  }
 },
 "nbformat": 4,
 "nbformat_minor": 2
}
