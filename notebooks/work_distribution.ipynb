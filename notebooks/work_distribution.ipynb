{
 "cells": [
  {
   "cell_type": "markdown",
   "metadata": {},
   "source": [
    "# Work distribution"
   ]
  },
  {
   "cell_type": "markdown",
   "metadata": {},
   "source": [
    "Onze communicatie vond volledig vanuit huis plaats via Zoom en eventuele tekstberichten. Het doel van de eerste bijeenkomst was om ideeen te presenteren en te brainstormen over de werkbaarheid van deze ideeën voor het project, zodat we ons onderwerp te kiezen. Na het kiezen van het onderwerp hebben we de eerste datasets gevonden over HDI en CO2-uitstoot en gezocht naar interessante variabelen die geschikt waren voor ons onderzoek. Deze datasets hebben we allereerst opgeschoond (meer informatie is te vinden bij [Preprocessing](https://goofvanriet.github.io/infovis/notebooks/dataset_preprocessing.html)), zodat we konden starten met visualiseren. We hebben hierna interessante visualisaties bedacht en uitgevoerd voor de draft. Na de eerste draft en peer review realiseerden we ons dat het nodig was om een sterkere verhaallijn te creëren. De tijd daarna hebben we besteed aan het herstructureren van het verhaal en het toevoegen van nieuwe argumenten, visualisaties en datasets om het verhaal te versterken."
   ]
  },
  {
   "cell_type": "markdown",
   "metadata": {},
   "source": [
    "## Goof"
   ]
  },
  {
   "cell_type": "markdown",
   "metadata": {},
   "source": [
    "## Efehan"
   ]
  },
  {
   "cell_type": "markdown",
   "metadata": {},
   "source": [
    "## Tom "
   ]
  },
  {
   "cell_type": "markdown",
   "metadata": {},
   "source": [
    "## Anou\n"
   ]
  }
 ],
 "metadata": {
  "kernelspec": {
   "display_name": "Python 3 (ipykernel)",
   "language": "python",
   "name": "python3"
  },
  "language_info": {
   "codemirror_mode": {
    "name": "ipython",
    "version": 3
   },
   "file_extension": ".py",
   "mimetype": "text/x-python",
   "name": "python",
   "nbconvert_exporter": "python",
   "pygments_lexer": "ipython3",
   "version": "3.10.12"
  }
 },
 "nbformat": 4,
 "nbformat_minor": 4
}
